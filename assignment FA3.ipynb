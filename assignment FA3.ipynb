{
 "cells": [
  {
   "cell_type": "markdown",
   "metadata": {},
   "source": [
    "1. What is the role of try and exception block?\n",
    "\n",
    "ANS:- The try and except block in Python is used to catch and handle exceptions.The try block lets you test a block of code for errors. The except block lets you handle the error.\n"
   ]
  },
  {
   "cell_type": "markdown",
   "metadata": {},
   "source": [
    "2. What is the syntax for a basic try-except block?\n",
    "\n",
    "ANS:- the syntax for try except block is"
   ]
  },
  {
   "cell_type": "code",
   "execution_count": 10,
   "metadata": {},
   "outputs": [
    {
     "name": "stdout",
     "output_type": "stream",
     "text": [
      "There is no x\n"
     ]
    }
   ],
   "source": [
    "\n",
    "try:\n",
    "    print(x)\n",
    "except:\n",
    "    print(\"There is no x\")\n",
    "else:\n",
    "    print(\"No error\")"
   ]
  },
  {
   "cell_type": "markdown",
   "metadata": {},
   "source": [
    "3. What happens if an exception occurs inside a try block and there is no matching\n",
    "except block?\n",
    "\n",
    "ANS:- The program will not compile without a complete try/catch structure. The program terminates immediately. The program throws an exception and proceeds to execute the finally block."
   ]
  },
  {
   "cell_type": "markdown",
   "metadata": {},
   "source": [
    "4. What is the difference between using a bare except block and specifying a specific\n",
    "exception type?\n",
    "\n",
    "ANS:- The point of specifying the Exception is that only that Exception will be caught, if you do not specify any Exception, then ALL Errors and Exceptions will be caught.But by specifying a exception we can figure out what is wrong where as bare except block doesn't help in that.\n",
    "\n",
    "\n",
    "    \n",
    "       \n",
    "\n",
    "    \n"
   ]
  },
  {
   "cell_type": "code",
   "execution_count": null,
   "metadata": {},
   "outputs": [],
   "source": [
    "\"\"\"\n",
    "try:                                                                                  try:\n",
    "    with ope(\"example.txt\", \"r\") as f:                                                    with ope(\"example.txt\", \"r\") as f:\n",
    "        print(f.read())                                                                       print(f.read())\n",
    "except:                                                                               except FileNotFoundError:\n",
    "    print(\"File not found\")                                                               print(\"File not found\")\n",
    "\n",
    "\"\"\""
   ]
  },
  {
   "cell_type": "markdown",
   "metadata": {},
   "source": [
    "5. Can you have nested try-except blocks in Python? If yes, then give an example.\n",
    "\n",
    "ANS:-We can have nested try-except blocks in Python. In this case, if an exception is raised in the nested try block, the nested except block is used to handle it. In case the nested except is not able to handle it, the outer except blocks are used to handle the exception."
   ]
  },
  {
   "cell_type": "code",
   "execution_count": 11,
   "metadata": {},
   "outputs": [
    {
     "name": "stdout",
     "output_type": "stream",
     "text": [
      "outer try block\n",
      "Inner try block\n",
      "Inner finally block\n",
      "outer except block\n",
      "outer finally block\n"
     ]
    }
   ],
   "source": [
    "try:\n",
    "   print(\"outer try block\")\n",
    "   try:\n",
    "       print(\"Inner try block\")\n",
    "       print(10/0)\n",
    "   except NameError:\n",
    "       print(\"Inner except block\")\n",
    "   finally:\n",
    "       print(\"Inner finally block\")\n",
    "except:\n",
    "   print(\"outer except block\")\n",
    "finally:\n",
    "   print(\"outer finally block\")"
   ]
  },
  {
   "cell_type": "markdown",
   "metadata": {},
   "source": [
    "6. Can we use multiple exception blocks, if yes then give an example.\n",
    "\n",
    "ANS:- yes, we can use different types of exceptions in separate except blocks. The try block can have multiple except blocks, each handling a different type of exception. The interpreter will execute the first except block whose exception matches the exception that was raised.\n"
   ]
  },
  {
   "cell_type": "code",
   "execution_count": 16,
   "metadata": {},
   "outputs": [
    {
     "name": "stdout",
     "output_type": "stream",
     "text": [
      "you have entered wrong value try using integer values.\n"
     ]
    }
   ],
   "source": [
    "try:\n",
    "    a = int(input(\"Number...::\"))\n",
    "    b = int(input(\"Number...::\"))\n",
    "    result = a/b\n",
    "    print(f\"The result is{result}\")\n",
    "except ZeroDivisionError:\n",
    "    print(\"you have divided the number by zero\")\n",
    "except ValueError:\n",
    "    print(\"you have entered wrong value try using integer values.\")\n",
    "else:\n",
    "    print(\"no error\")"
   ]
  },
  {
   "cell_type": "markdown",
   "metadata": {},
   "source": [
    "7. Write the reason due to which following errors are raised:\n",
    "a. EOFError \n",
    "b. FloatingPointError \n",
    "c. IndexError \n",
    "d. MemoryError \n",
    "e. OverflowError \n",
    "f. TabError \n",
    "g. ValueError \n"
   ]
  },
  {
   "cell_type": "markdown",
   "metadata": {},
   "source": [
    "ANS:-\n",
    "a) This occurs when we have asked the user for input but have not provided any input in the input box.\n"
   ]
  },
  {
   "cell_type": "markdown",
   "metadata": {},
   "source": [
    "   b)It’s a problem caused when the internal representation of floating-point numbers, which uses a fixed number of binary digits to   represent a decimal number."
   ]
  },
  {
   "cell_type": "markdown",
   "metadata": {},
   "source": [
    "c)An IndexError is raised in Python when we try to access an index of a sequence (such as a string, list, or tuple) that is out of range."
   ]
  },
  {
   "cell_type": "markdown",
   "metadata": {},
   "source": [
    "d)This error occurs when your device does not have enough storage or memory."
   ]
  },
  {
   "cell_type": "markdown",
   "metadata": {},
   "source": [
    "e)OverflowError is raised when the result of an arithmetic operation is too large."
   ]
  },
  {
   "cell_type": "markdown",
   "metadata": {},
   "source": [
    "f)This occurs when we mix tabs and spaces in the same code block."
   ]
  },
  {
   "cell_type": "markdown",
   "metadata": {},
   "source": [
    "g)This error occurs when you give wrong values instead of which should be given."
   ]
  },
  {
   "cell_type": "markdown",
   "metadata": {},
   "source": [
    "8. Write code for the following given scenario and add try-exception block to it.\n",
    "a. Program to divide two numbers\n",
    "b. Program to convert a string to an integer\n",
    "c. Program to access an element in a list\n",
    "d. Program to handle a specific exception\n",
    "e. Program to handle any exception"
   ]
  },
  {
   "cell_type": "code",
   "execution_count": 17,
   "metadata": {},
   "outputs": [
    {
     "name": "stdout",
     "output_type": "stream",
     "text": [
      "The result is10.0\n"
     ]
    }
   ],
   "source": [
    "#a\n",
    "try:\n",
    "    a = int(input(\"Number...::\"))\n",
    "    b = int(input(\"Number...::\"))\n",
    "    result = a/b\n",
    "    print(f\"The result is{result}\")\n",
    "except ZeroDivisionError:\n",
    "    print(\"you have divided the number by zero\")"
   ]
  },
  {
   "cell_type": "code",
   "execution_count": 19,
   "metadata": {},
   "outputs": [
    {
     "name": "stdout",
     "output_type": "stream",
     "text": [
      "the value type is not appropriate\n"
     ]
    }
   ],
   "source": [
    "#b\n",
    "try:\n",
    "    str = input(\"enter your value\")\n",
    "    converted_str = int(str)\n",
    "    print(\"the integr value is\",converted_str)\n",
    "except ValueError:\n",
    "    print(\"the value type is not appropriate\")\n",
    "\n"
   ]
  },
  {
   "cell_type": "code",
   "execution_count": 22,
   "metadata": {},
   "outputs": [
    {
     "name": "stdout",
     "output_type": "stream",
     "text": [
      "the wrong index has been passed\n"
     ]
    }
   ],
   "source": [
    "#c\n",
    "try:\n",
    "    list1 = [1,2,3,4,5,6]\n",
    "    choice = int(input(\"enter your choice :\"))\n",
    "    print(list1[choice])\n",
    "except IndexError:\n",
    "    print(\"the wrong index has been passed\")"
   ]
  },
  {
   "cell_type": "code",
   "execution_count": 23,
   "metadata": {},
   "outputs": [
    {
     "name": "stdout",
     "output_type": "stream",
     "text": [
      "Wrong key has been passed\n"
     ]
    }
   ],
   "source": [
    "#d\n",
    "try:\n",
    "    dict_val = {\"name\":\"alice\",\"age\":23,\"gender\":\"female\"}\n",
    "    print(dict_val[\"city\"])\n",
    "except KeyError:\n",
    "    print(\"Wrong key has been passed\")"
   ]
  },
  {
   "cell_type": "code",
   "execution_count": 26,
   "metadata": {},
   "outputs": [
    {
     "name": "stdout",
     "output_type": "stream",
     "text": [
      "data mismatch enter the data correctly\n"
     ]
    }
   ],
   "source": [
    "#e\n",
    "try:\n",
    "    a = input(\"enter your data\")\n",
    "    b = int(input(\"enter your data for calculation\"))\n",
    "    sum = a+b\n",
    "    print(sum)\n",
    "except:\n",
    "    print(\"data mismatch enter the data correctly\")"
   ]
  }
 ],
 "metadata": {
  "kernelspec": {
   "display_name": "Python 3",
   "language": "python",
   "name": "python3"
  },
  "language_info": {
   "codemirror_mode": {
    "name": "ipython",
    "version": 3
   },
   "file_extension": ".py",
   "mimetype": "text/x-python",
   "name": "python",
   "nbconvert_exporter": "python",
   "pygments_lexer": "ipython3",
   "version": "3.9.17"
  },
  "orig_nbformat": 4
 },
 "nbformat": 4,
 "nbformat_minor": 2
}
