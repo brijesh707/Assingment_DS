{
 "cells": [
  {
   "cell_type": "markdown",
   "metadata": {},
   "source": [
    "1. What is the role of the 'else' block in a try-except statement? Provide an example scenario where it would be useful.\n",
    "\n",
    "ANS:- the else block is useful when the except part is not runed. in other words when there is no errors else part gets executed. "
   ]
  },
  {
   "cell_type": "code",
   "execution_count": 1,
   "metadata": {},
   "outputs": [
    {
     "name": "stdout",
     "output_type": "stream",
     "text": [
      "12\n",
      "no errors\n"
     ]
    }
   ],
   "source": [
    "x = 12\n",
    "try:\n",
    "    print(x)\n",
    "except:\n",
    "    print(\"There is no x\")\n",
    "else:\n",
    "    print(\"no errors\")"
   ]
  },
  {
   "cell_type": "markdown",
   "metadata": {},
   "source": [
    "2. Can a try-except block be nested inside another try-except block? Explain with an example.\n",
    "\n",
    "ANS:-"
   ]
  },
  {
   "cell_type": "code",
   "execution_count": 2,
   "metadata": {},
   "outputs": [
    {
     "name": "stdout",
     "output_type": "stream",
     "text": [
      "outer try block\n",
      "Inner try block\n",
      "Inner except block\n",
      "Inner finally block\n",
      "outer finally block\n"
     ]
    }
   ],
   "source": [
    "try:\n",
    "   print(\"outer try block\")\n",
    "   try:\n",
    "       print(\"Inner try block\")\n",
    "       print(10/0)\n",
    "   except ZeroDivisionError:\n",
    "       print(\"Inner except block\")\n",
    "   finally:\n",
    "       print(\"Inner finally block\")\n",
    "except:\n",
    "   print(\"outer except block\")\n",
    "finally:\n",
    "   print(\"outer finally block\")"
   ]
  },
  {
   "cell_type": "markdown",
   "metadata": {},
   "source": [
    "3. How can you create a custom exception class in Python? Provide an example that demonstrates its usage.\n",
    "\n",
    "ANS:-\n"
   ]
  },
  {
   "cell_type": "code",
   "execution_count": 5,
   "metadata": {},
   "outputs": [
    {
     "name": "stdout",
     "output_type": "stream",
     "text": [
      "You are eligible to vote\n"
     ]
    }
   ],
   "source": [
    "class WrongAge(Exception):\n",
    "    \"raised when input age is less than 18 years.\"\n",
    "    pass\n",
    "\n",
    "n = 18\n",
    "try:\n",
    "    input_num = int(input(\"enter your age.. :\"))\n",
    "    if input_num < 18:\n",
    "        raise WrongAge\n",
    "    else:\n",
    "        print(\"You are eligible to vote\")\n",
    "except WrongAge:\n",
    "    print(\"you can not vote.... SORRY\")\n",
    "\n"
   ]
  },
  {
   "cell_type": "markdown",
   "metadata": {},
   "source": [
    "4. What are some common exceptions that are built-in to Python?\n",
    "\n",
    "ANS:- some common exceptions that are built-in to Python are SyntaxError, TypeError , NameError etc.\n"
   ]
  },
  {
   "cell_type": "markdown",
   "metadata": {},
   "source": [
    "5. What is logging in Python, and why is it important in software development?\n",
    "\n",
    "ANS:-Logging is a way to store information about your script and track events that occur. When writing any complex script in Python, logging is essential for debugging software as you develop it. Without logging, finding the source of a problem in your code may be extremely time consuming.\n"
   ]
  },
  {
   "cell_type": "markdown",
   "metadata": {},
   "source": [
    "6. Explain the purpose of log levels in Python logging and provide examples of when each log level would be appropriate.\n",
    "\n",
    "ANS:- DEBUG < INFO < WARNING < ERROR < CRITICAL ERROR .\n",
    "\n",
    "Debug = 10: This level gives detailed information, useful only when a problem is being diagnosed.\n",
    "\n",
    "Info = 20: This is used to confirm that everything is working as it should.\n",
    "\n",
    "Warning = 30: This level indicates that something unexpected has happened or some problem is about to happen in the near future.\n",
    "\n",
    "Error = 40: As it implies, an error has occurred. The software was unable to perform some function.\n",
    "\n",
    "Critical = 50: A serious error has occurred. The program itself may shut down or not be able to continue running properly.\n",
    "\n"
   ]
  },
  {
   "cell_type": "code",
   "execution_count": 6,
   "metadata": {},
   "outputs": [
    {
     "name": "stderr",
     "output_type": "stream",
     "text": [
      "DEBUG:root:variables are 2 and 3 \n"
     ]
    },
    {
     "data": {
      "text/plain": [
       "5"
      ]
     },
     "execution_count": 6,
     "metadata": {},
     "output_type": "execute_result"
    }
   ],
   "source": [
    "#debug\n",
    "import logging\n",
    "logging.basicConfig(level = logging.DEBUG)\n",
    "\n",
    "def add(x,y):\n",
    "    logging.debug(\"variables are %s and %s \",x,y)\n",
    "\n",
    "    return x+y\n",
    "\n",
    "add(2,3)\n"
   ]
  },
  {
   "cell_type": "code",
   "execution_count": 7,
   "metadata": {},
   "outputs": [
    {
     "name": "stderr",
     "output_type": "stream",
     "text": [
      "INFO:root:user name is  ben \n"
     ]
    }
   ],
   "source": [
    "#info\n",
    "import logging\n",
    "logging.basicConfig(level = logging.INFO)\n",
    "\n",
    "def login12(user):\n",
    "    logging.info(\"user name is  %s \",user)\n",
    "\n",
    "    \n",
    "\n",
    "login12(\"ben\")\n"
   ]
  },
  {
   "cell_type": "code",
   "execution_count": 8,
   "metadata": {},
   "outputs": [
    {
     "name": "stderr",
     "output_type": "stream",
     "text": [
      "WARNING:root:sorry your bank balance is low 200\n"
     ]
    }
   ],
   "source": [
    "#warning\n",
    "import logging\n",
    "logging.basicConfig(level = logging.WARNING)\n",
    "\n",
    "def my_balance(amt):\n",
    "    if amt< 10000:\n",
    "        logging.warning(\"sorry your bank balance is low %s\",amt)\n",
    "\n",
    "my_balance(200)"
   ]
  },
  {
   "cell_type": "code",
   "execution_count": 11,
   "metadata": {},
   "outputs": [
    {
     "name": "stderr",
     "output_type": "stream",
     "text": [
      "ERROR:root:division by zero is not possible\n"
     ]
    }
   ],
   "source": [
    "#error\n",
    "import logging\n",
    "logging.basicConfig(level = logging.ERROR)\n",
    "\n",
    "def Division(n,d):\n",
    "    try:\n",
    "        result = n/d\n",
    "    except ZeroDivisionError:\n",
    "        logging.error(\"division by zero is not possible\")\n",
    "    else:\n",
    "        return result\n",
    "    \n",
    "Division(5,0)"
   ]
  },
  {
   "cell_type": "code",
   "execution_count": 17,
   "metadata": {},
   "outputs": [
    {
     "name": "stderr",
     "output_type": "stream",
     "text": [
      "CRITICAL:root:system failure: my system has crashed\n"
     ]
    }
   ],
   "source": [
    "#Critical error\n",
    "import logging\n",
    "logging.basicConfig(level = logging.CRITICAL)\n",
    "\n",
    "def check(sys):\n",
    "    if sys!= \"ok\":\n",
    "        logging.critical(\"system failure: %s\",sys)\n",
    "\n",
    "\n",
    "check(\"my system has crashed\")\n"
   ]
  },
  {
   "cell_type": "markdown",
   "metadata": {},
   "source": [
    "7. What are log formatters in Python logging, and how can you customise the log message format using formatters?\n",
    "\n",
    "ANS:- Logging is a means of tracking events that happen when some software runs. The software's developer adds logging calls to their code to indicate that certain events have occurred.Formatters use a user-configurable function to convert the creation time of a record to a tuple.\n",
    "\n",
    "By default, the logging library will log messages in the following format: <LEVEL>:<LOGGER_NAME>:<MESSAGE>.\n",
    "\n",
    "logging.basicConfig(level=logging.DEBUG, filename='myapp.log', format='%(asctime)s %(levelname)s:%(message)s') by changing the format we can customise the message.\n",
    "\n"
   ]
  },
  {
   "cell_type": "markdown",
   "metadata": {},
   "source": [
    "8. How can you set up logging to capture log messages from multiple modules or classes in a Python application?\n",
    "\n",
    "ANS:- we can do this by importing logger file into another class .\n",
    " eg we have one module name with name.py    and one logger.py.\n"
   ]
  },
  {
   "cell_type": "code",
   "execution_count": null,
   "metadata": {},
   "outputs": [],
   "source": [
    "# this all code is in ben_7\n",
    "\n",
    "\n",
    "#logger.py file \n",
    "import logging\n",
    "\n",
    "logging.basicConfig(level=logging.INFO,format=\"%(asctime)s : %(name)s : %(levelname)s - %(message)s\", filename='app.log')\n",
    "\n",
    "\n",
    "#name.py file\n",
    "class Class1:\n",
    "    def greet(self, name):\n",
    "        try:\n",
    "            if isinstance(name, str):\n",
    "                print(f'Hi, {name}')\n",
    "            \n",
    "        except Exception as e:\n",
    "            logging.error(\"An error has occured\")\n",
    "        else:\n",
    "            logging.debug('Greeting to %s', name)\n",
    "\n",
    "#result.py file\n",
    "from ben_7.logger import logging\n",
    "from ben_7.name  import Class1\n",
    "obj = Class1()\n",
    "Class1.greet(\"brijesh\")\n",
    "\n"
   ]
  },
  {
   "cell_type": "markdown",
   "metadata": {},
   "source": [
    "9. What is the difference between the logging and print statements in Python? When should you use logging over print statements in a real-world application?\n",
    "\n",
    "ANS:-\n",
    "\n",
    "logging\n",
    "\n",
    "Record events and errors that occur during the execution of Python programs.Mainly used in the production environment.Some features are: Log levels, filtering, formatting, and more.It provides different log levels such as Debug, Info, Error, Warning, and Critical.\n",
    "\n",
    "Print\n",
    "\n",
    "Displays the information to the console for the debugging purposes.Mainly for debugging.There are no good features.It does not have any levels, it simply prints whatever is passed to it.\n",
    "                          \n",
    "\n",
    "\n",
    "\n",
    "\n"
   ]
  },
  {
   "cell_type": "markdown",
   "metadata": {},
   "source": [
    "10. Write a Python program that logs a message to a file named \"app.log\" with the\n",
    "following requirements:\n",
    "\n",
    "● The log message should be \"Hello, World!\"\n",
    "\n",
    "● The log level should be set to \"INFO.\"\n",
    "\n",
    "● The log file should append new log entries without overwriting previous ones.\n",
    "\n",
    "ANS:- \n",
    "\n",
    "\n",
    "\n"
   ]
  },
  {
   "cell_type": "code",
   "execution_count": 1,
   "metadata": {},
   "outputs": [],
   "source": [
    "#the default file mode for logging is append.\n",
    "import logging\n",
    "\n",
    "logging.basicConfig(level=logging.INFO,format=\"%(asctime)s : %(name)s : %(levelname)s - %(message)s\", filename='app.log')\n",
    "\n",
    "logging.info(\"Hello, World!\")\n"
   ]
  },
  {
   "cell_type": "markdown",
   "metadata": {},
   "source": [
    "11. Create a Python program that logs an error message to the console and a file named \"errors.log\" if an exception occurs during the program's executionThe error message should include the exception type and a timestamp.\n",
    "\n",
    "ANS:-"
   ]
  },
  {
   "cell_type": "code",
   "execution_count": 3,
   "metadata": {},
   "outputs": [],
   "source": [
    "# importing module\n",
    "import logging\n",
    " \n",
    "# Create and configure logger\n",
    "logging.basicConfig(filename=\"errors.log\",format='%(asctime)s %(message)s',filemode='w')\n",
    "\n",
    " \n",
    "class Class1:\n",
    "    def greet(self, name):\n",
    "        try:\n",
    "            if isinstance(name, str):\n",
    "                print(f'Hi, {name}')\n",
    "            else:\n",
    "                raise ValueError(f'Data type of name must be string.')\n",
    "        except Exception as e:\n",
    "            logging.error('%s : %s', e.__class__.__name__, e)\n",
    "            raise\n",
    "        else:\n",
    "            logging.debug('Greeting to %s', name)\n",
    "\n",
    "\n",
    "    "
   ]
  },
  {
   "cell_type": "code",
   "execution_count": 10,
   "metadata": {},
   "outputs": [
    {
     "name": "stdout",
     "output_type": "stream",
     "text": [
      "Hi, Brijesh\n"
     ]
    },
    {
     "ename": "ValueError",
     "evalue": "Data type of name must be string.",
     "output_type": "error",
     "traceback": [
      "\u001b[1;31m---------------------------------------------------------------------------\u001b[0m",
      "\u001b[1;31mValueError\u001b[0m                                Traceback (most recent call last)",
      "Cell \u001b[1;32mIn[10], line 3\u001b[0m\n\u001b[0;32m      1\u001b[0m c1 \u001b[39m=\u001b[39m Class1()\n\u001b[0;32m      2\u001b[0m c1\u001b[39m.\u001b[39mgreet(\u001b[39m'\u001b[39m\u001b[39mBrijesh\u001b[39m\u001b[39m'\u001b[39m)\n\u001b[1;32m----> 3\u001b[0m c1\u001b[39m.\u001b[39;49mgreet(\u001b[39m12\u001b[39;49m)\n",
      "Cell \u001b[1;32mIn[3], line 14\u001b[0m, in \u001b[0;36mClass1.greet\u001b[1;34m(self, name)\u001b[0m\n\u001b[0;32m     12\u001b[0m         \u001b[39mprint\u001b[39m(\u001b[39mf\u001b[39m\u001b[39m'\u001b[39m\u001b[39mHi, \u001b[39m\u001b[39m{\u001b[39;00mname\u001b[39m}\u001b[39;00m\u001b[39m'\u001b[39m)\n\u001b[0;32m     13\u001b[0m     \u001b[39melse\u001b[39;00m:\n\u001b[1;32m---> 14\u001b[0m         \u001b[39mraise\u001b[39;00m \u001b[39mValueError\u001b[39;00m(\u001b[39mf\u001b[39m\u001b[39m'\u001b[39m\u001b[39mData type of name must be string.\u001b[39m\u001b[39m'\u001b[39m)\n\u001b[0;32m     15\u001b[0m \u001b[39mexcept\u001b[39;00m \u001b[39mException\u001b[39;00m \u001b[39mas\u001b[39;00m e:\n\u001b[0;32m     16\u001b[0m     logging\u001b[39m.\u001b[39merror(\u001b[39m'\u001b[39m\u001b[39m%s\u001b[39;00m\u001b[39m : \u001b[39m\u001b[39m%s\u001b[39;00m\u001b[39m'\u001b[39m, e\u001b[39m.\u001b[39m\u001b[39m__class__\u001b[39m\u001b[39m.\u001b[39m\u001b[39m__name__\u001b[39m, e)\n",
      "\u001b[1;31mValueError\u001b[0m: Data type of name must be string."
     ]
    }
   ],
   "source": [
    "c1 = Class1()\n",
    "c1.greet('Brijesh')\n",
    "c1.greet(12)\n"
   ]
  }
 ],
 "metadata": {
  "kernelspec": {
   "display_name": "Python 3",
   "language": "python",
   "name": "python3"
  },
  "language_info": {
   "codemirror_mode": {
    "name": "ipython",
    "version": 3
   },
   "file_extension": ".py",
   "mimetype": "text/x-python",
   "name": "python",
   "nbconvert_exporter": "python",
   "pygments_lexer": "ipython3",
   "version": "3.9.17"
  },
  "orig_nbformat": 4
 },
 "nbformat": 4,
 "nbformat_minor": 2
}
